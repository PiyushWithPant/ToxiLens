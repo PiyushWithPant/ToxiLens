{
 "cells": [
  {
   "cell_type": "markdown",
   "id": "7fe0c042",
   "metadata": {},
   "source": [
    "### Importing Libraries"
   ]
  },
  {
   "cell_type": "code",
   "execution_count": 36,
   "id": "7986e0b8",
   "metadata": {},
   "outputs": [],
   "source": [
    "import torch\n",
    "import pandas as pd\n",
    "from sklearn.feature_extraction.text import TfidfVectorizer\n",
    "from torch.utils.data import TensorDataset, DataLoader"
   ]
  },
  {
   "cell_type": "markdown",
   "id": "3610cdd5",
   "metadata": {},
   "source": [
    "### Data Preprocessing"
   ]
  },
  {
   "cell_type": "code",
   "execution_count": 30,
   "id": "e089ac11",
   "metadata": {},
   "outputs": [
    {
     "name": "stdout",
     "output_type": "stream",
     "text": [
      "                 id                                       comment_text  toxic  \\\n",
      "0  0000997932d777bf  Explanation\\nWhy the edits made under my usern...      0   \n",
      "1  000103f0d9cfb60f  D'aww! He matches this background colour I'm s...      0   \n",
      "2  000113f07ec002fd  Hey man, I'm really not trying to edit war. It...      0   \n",
      "3  0001b41b1c6bb37e  \"\\nMore\\nI can't make any real suggestions on ...      0   \n",
      "4  0001d958c54c6e35  You, sir, are my hero. Any chance you remember...      0   \n",
      "\n",
      "   severe_toxic  obscene  threat  insult  identity_hate  \n",
      "0             0        0       0       0              0  \n",
      "1             0        0       0       0              0  \n",
      "2             0        0       0       0              0  \n",
      "3             0        0       0       0              0  \n",
      "4             0        0       0       0              0  \n",
      "\n",
      "Shape: (159571, 8)\n"
     ]
    }
   ],
   "source": [
    "# Load dataset (adjust path if needed)\n",
    "df = pd.read_csv(\"../data/jigsaw dataset kaggle/train.csv\")\n",
    "\n",
    "# Look at first few rows\n",
    "print(df.head())\n",
    "\n",
    "# See how many samples and columns\n",
    "print(\"\\nShape:\", df.shape)\n"
   ]
  },
  {
   "cell_type": "code",
   "execution_count": 31,
   "id": "94614da7",
   "metadata": {},
   "outputs": [
    {
     "name": "stdout",
     "output_type": "stream",
     "text": [
      "\n",
      "Binary target distribution:\n",
      "binary_target\n",
      "0    0.898321\n",
      "1    0.101679\n",
      "Name: proportion, dtype: float64\n",
      "\n",
      "Final dataset size: 159571\n"
     ]
    }
   ],
   "source": [
    "# Multi-label columns \n",
    "multi_labels = ['toxic', 'severe_toxic', 'obscene', 'threat', 'insult', 'identity_hate']\n",
    "\n",
    "# Binary target: toxic if any label = 1\n",
    "df['binary_target'] = (df[multi_labels].sum(axis=1) > 0).astype(int)\n",
    "\n",
    "print(\"\\nBinary target distribution:\")\n",
    "print(df['binary_target'].value_counts(normalize=True))\n",
    "\n",
    "# Drop missing text just in case\n",
    "df = df.dropna(subset=['comment_text']).reset_index(drop=True)\n",
    "\n",
    "print(f\"\\nFinal dataset size: {len(df)}\")\n"
   ]
  },
  {
   "cell_type": "markdown",
   "id": "196a4c16",
   "metadata": {},
   "source": [
    "### TF-IDF Vectorization"
   ]
  },
  {
   "cell_type": "code",
   "execution_count": 40,
   "id": "a93ecc0a",
   "metadata": {},
   "outputs": [
    {
     "name": "stdout",
     "output_type": "stream",
     "text": [
      "TF-IDF shape: (159571, 5000)\n"
     ]
    }
   ],
   "source": [
    "# Initialize TF-IDF vectorizer\n",
    "vectorizer = TfidfVectorizer(\n",
    "    max_features=5000,   # keep top 10k words\n",
    "    stop_words='english', # ignore very common words\n",
    "    lowercase=True\n",
    ")\n",
    "\n",
    "# Fit on all comment text and transform\n",
    "X_tfidf = vectorizer.fit_transform(df['comment_text']).astype('float32')\n",
    "\n",
    "\n",
    "print(\"TF-IDF shape:\", X_tfidf.shape)\n"
   ]
  },
  {
   "cell_type": "markdown",
   "id": "ddbf20e1",
   "metadata": {},
   "source": [
    "### Prepare Tensors and DataLoader"
   ]
  },
  {
   "cell_type": "code",
   "execution_count": 43,
   "id": "01a59666",
   "metadata": {},
   "outputs": [],
   "source": [
    "from torch.utils.data import Dataset, DataLoader\n",
    "\n",
    "class SparseDataset(Dataset):\n",
    "    def __init__(self, X_sparse, y_bin, y_multi):\n",
    "        self.X_sparse = X_sparse\n",
    "        self.y_bin = torch.tensor(y_bin.values, dtype=torch.float32).unsqueeze(1)\n",
    "        self.y_multi = torch.tensor(y_multi.values, dtype=torch.float32)\n",
    "\n",
    "    def __len__(self):\n",
    "        return self.X_sparse.shape[0]\n",
    "\n",
    "    def __getitem__(self, idx):\n",
    "        x = torch.tensor(self.X_sparse[idx].toarray(), dtype=torch.float32).squeeze(0)\n",
    "        y_bin = self.y_bin[idx]\n",
    "        y_multi = self.y_multi[idx]\n",
    "        return x, y_bin, y_multi\n",
    "\n",
    "# Create dataset\n",
    "dataset = SparseDataset(X_tfidf, df['binary_target'], df[multi_labels])\n",
    "train_loader = DataLoader(dataset, batch_size=64, shuffle=True)\n"
   ]
  },
  {
   "cell_type": "code",
   "execution_count": null,
   "id": "abc4692e",
   "metadata": {},
   "outputs": [],
   "source": []
  },
  {
   "cell_type": "code",
   "execution_count": null,
   "id": "d5a29d42",
   "metadata": {},
   "outputs": [],
   "source": []
  },
  {
   "cell_type": "code",
   "execution_count": null,
   "id": "7e229c2c",
   "metadata": {},
   "outputs": [],
   "source": []
  }
 ],
 "metadata": {
  "kernelspec": {
   "display_name": "env",
   "language": "python",
   "name": "python3"
  },
  "language_info": {
   "codemirror_mode": {
    "name": "ipython",
    "version": 3
   },
   "file_extension": ".py",
   "mimetype": "text/x-python",
   "name": "python",
   "nbconvert_exporter": "python",
   "pygments_lexer": "ipython3",
   "version": "3.13.4"
  }
 },
 "nbformat": 4,
 "nbformat_minor": 5
}
